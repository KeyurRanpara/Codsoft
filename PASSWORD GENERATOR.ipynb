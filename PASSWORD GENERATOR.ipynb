{
 "cells": [
  {
   "cell_type": "markdown",
   "id": "c8641497",
   "metadata": {},
   "source": [
    "# Task 3:- PASSWORD GENERATOR"
   ]
  },
  {
   "cell_type": "code",
   "execution_count": null,
   "id": "f9c17bc6",
   "metadata": {},
   "outputs": [],
   "source": [
    "import random\n",
    "from tkinter import messagebox\n",
    "from tkinter import *\n",
    "\n",
    "def generate_password():\n",
    " try:\n",
    "   repeat = int(repeat_entry.get())\n",
    "   length = int(length_entry.get())\n",
    " except:\n",
    "   messagebox.showerror(message=\"Please key in the required inputs\")\n",
    "   return\n",
    " \n",
    " if repeat == 1:\n",
    "   password = random.sample(character_string,length)\n",
    " else:\n",
    "   password = random.choices(character_string,k=length)\n",
    " \n",
    " password=''.join(password)\n",
    " password_v = StringVar()\n",
    "\n",
    " password=\"Created password: \"+str(password)\n",
    " password_v.set(password)\n",
    " password_label = Entry(password_gen, bd=0, bg=\"gray85\", textvariable= password_v, state=\"readonly\")\n",
    " password_label.place(x=10, y=140, height=50, width=320)\n",
    "character_string=\"ABCDEFGHIJKLMNOPQRSTUVWXYZabcdefghijklmnopqrstuvwxyz0123456789!#$%&'()*+,-./:;<=>?@[\\]^_`{|}~\"\n",
    "\n",
    "password_gen  = Tk()\n",
    "password_gen.geometry(\"350x200\")\n",
    "password_gen.title(\"Random Password Generator\")\n",
    "title_label = Label(password_gen, text=\"Random Password Generator\", font=('Ubuntu Mono',12))\n",
    "title_label.pack()\n",
    "length_label = Label(password_gen, text=\"Enter length of password: \")\n",
    "length_label.place(x=20,y=30)\n",
    "length_entry = Entry(password_gen, width=3)\n",
    "length_entry.place(x=190,y=30)\n",
    "repeat_label = Label(password_gen, text=\"Repetition? 1: no repetition, 2: otherwise: \")\n",
    "repeat_label.place(x=20,y=60)\n",
    "repeat_entry = Entry(password_gen, width=3)\n",
    "repeat_entry.place(x=300,y=60)\n",
    "password_button = Button(password_gen, text=\"Generate Password\", command=generate_password)\n",
    "password_button.place(x=100,y=100)\n",
    "password_gen.mainloop()"
   ]
  }
 ],
 "metadata": {
  "kernelspec": {
   "display_name": "Python 3 (ipykernel)",
   "language": "python",
   "name": "python3"
  },
  "language_info": {
   "codemirror_mode": {
    "name": "ipython",
    "version": 3
   },
   "file_extension": ".py",
   "mimetype": "text/x-python",
   "name": "python",
   "nbconvert_exporter": "python",
   "pygments_lexer": "ipython3",
   "version": "3.9.12"
  }
 },
 "nbformat": 4,
 "nbformat_minor": 5
}
